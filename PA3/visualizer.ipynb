{
 "cells": [
  {
   "cell_type": "code",
   "execution_count": null,
   "metadata": {},
   "outputs": [],
   "source": [
    "import matplotlib.pyplot as plt\n",
    "import os\n",
    "\n",
    "colors = ['r', 'g', 'b']\n",
    "output_files = [file for file in os.listdir() if file.endswith('.out')]\n",
    "resource_dir = \"resources/testcases/\"\n",
    "for file in output_files:\n",
    "    resource_file = resource_dir + file.replace('.out', '.in')\n",
    "    pos = []\n",
    "    with open(resource_file) as f:\n",
    "        line = f.readline()\n",
    "        line = f.readline()\n",
    "        for line in f:\n",
    "            pos.append([int(x) for x in line.split()[1:]])\n",
    "    # print(pos)\n",
    "    pos = list(zip(*pos))\n",
    "    point_colors = []\n",
    "    with open(file) as f:\n",
    "        line =  f.readline()\n",
    "        for line in f:\n",
    "            tokens = line.split()\n",
    "            point_colors.append(colors[int(tokens[1])-1])\n",
    "\n",
    "    plt.scatter(pos[0], pos[1], c=point_colors)\n",
    "    plt.title(file)\n",
    "    plt.show()\n"
   ]
  }
 ],
 "metadata": {
  "kernelspec": {
   "display_name": "Python 3",
   "language": "python",
   "name": "python3"
  },
  "language_info": {
   "codemirror_mode": {
    "name": "ipython",
    "version": 3
   },
   "file_extension": ".py",
   "mimetype": "text/x-python",
   "name": "python",
   "nbconvert_exporter": "python",
   "pygments_lexer": "ipython3",
   "version": "3.10.12"
  }
 },
 "nbformat": 4,
 "nbformat_minor": 2
}
